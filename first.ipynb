{
 "cells": [
  {
   "cell_type": "markdown",
   "id": "8fc4b465",
   "metadata": {},
   "source": [
    "# first"
   ]
  },
  {
   "cell_type": "code",
   "execution_count": 1,
   "id": "29b558f5",
   "metadata": {},
   "outputs": [
    {
     "name": "stdout",
     "output_type": "stream",
     "text": [
      "Hello world\n"
     ]
    }
   ],
   "source": [
    "print(\"Hello world\")"
   ]
  },
  {
   "cell_type": "code",
   "execution_count": 1,
   "id": "05884f1a",
   "metadata": {},
   "outputs": [
    {
     "name": "stdout",
     "output_type": "stream",
     "text": [
      "Sample Data (first 5 rows):\n",
      "[[78 87 68]\n",
      " [91 54 75]\n",
      " [68 47 52]\n",
      " [54 53 71]\n",
      " [82 62 46]]\n",
      "\n",
      "=== Basic Statistics ===\n",
      "Mean: Math=70.70, Science=69.29, English=71.27\n",
      "Median: Math=69.5, Science=70.0, English=71.5\n",
      "Standard Deviation: Math=18.38, Science=17.22, English=18.33\n",
      "\n",
      "=== Correlation Matrix ===\n",
      "[[ 1.         -0.12655036 -0.19500841]\n",
      " [-0.12655036  1.          0.12000402]\n",
      " [-0.19500841  0.12000402  1.        ]]\n",
      "\n",
      "Top 5 Students (Index and Average Score):\n",
      "Student 6: Avg Score = 95.33\n",
      "Student 45: Avg Score = 88.67\n",
      "Student 87: Avg Score = 88.33\n",
      "Student 17: Avg Score = 87.00\n",
      "Student 82: Avg Score = 84.33\n"
     ]
    }
   ],
   "source": [
    "import numpy as np\n",
    "\n",
    "# 1. Generate synthetic data (100 students, scores between 40 and 100)\n",
    "np.random.seed(42)  # For reproducibility\n",
    "students = 100\n",
    "math_scores = np.random.randint(40, 101, students)\n",
    "science_scores = np.random.randint(40, 101, students)\n",
    "english_scores = np.random.randint(40, 101, students)\n",
    "\n",
    "# Combine into a NumPy array\n",
    "scores = np.array([math_scores, science_scores, english_scores]).T\n",
    "\n",
    "print(\"Sample Data (first 5 rows):\")\n",
    "print(scores[:5])\n",
    "\n",
    "# 2. Calculate basic statistics\n",
    "mean_scores = np.mean(scores, axis=0)\n",
    "median_scores = np.median(scores, axis=0)\n",
    "std_deviation = np.std(scores, axis=0)\n",
    "\n",
    "print(\"\\n=== Basic Statistics ===\")\n",
    "print(f\"Mean: Math={mean_scores[0]:.2f}, Science={mean_scores[1]:.2f}, English={mean_scores[2]:.2f}\")\n",
    "print(f\"Median: Math={median_scores[0]}, Science={median_scores[1]}, English={median_scores[2]}\")\n",
    "print(f\"Standard Deviation: Math={std_deviation[0]:.2f}, Science={std_deviation[1]:.2f}, English={std_deviation[2]:.2f}\")\n",
    "\n",
    "# 3. Correlation between subjects\n",
    "correlation_matrix = np.corrcoef(scores.T)\n",
    "print(\"\\n=== Correlation Matrix ===\")\n",
    "print(correlation_matrix)\n",
    "\n",
    "# 4. Identify top 5 performers based on average score\n",
    "average_scores = np.mean(scores, axis=1)\n",
    "top_students_idx = np.argsort(average_scores)[-5:][::-1]  # Sort descending\n",
    "print(\"\\nTop 5 Students (Index and Average Score):\")\n",
    "for idx in top_students_idx:\n",
    "    print(f\"Student {idx}: Avg Score = {average_scores[idx]:.2f}\")\n"
   ]
  },
  {
   "cell_type": "code",
   "execution_count": null,
   "id": "1527d83e",
   "metadata": {},
   "outputs": [],
   "source": []
  }
 ],
 "metadata": {
  "kernelspec": {
   "display_name": "Python 3",
   "language": "python",
   "name": "python3"
  },
  "language_info": {
   "codemirror_mode": {
    "name": "ipython",
    "version": 3
   },
   "file_extension": ".py",
   "mimetype": "text/x-python",
   "name": "python",
   "nbconvert_exporter": "python",
   "pygments_lexer": "ipython3",
   "version": "3.10.10"
  }
 },
 "nbformat": 4,
 "nbformat_minor": 5
}
